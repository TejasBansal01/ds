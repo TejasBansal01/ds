{
 "cells": [
  {
   "cell_type": "code",
   "execution_count": 3,
   "id": "49c4ed9d-0b81-4c42-925c-26b33223a71b",
   "metadata": {},
   "outputs": [],
   "source": [
    "#answer 1 \n",
    "\n",
    "#lists are mutable, means they can be cnanged or updated after creation, we define list in  square brackets[], eg:\n",
    "#list = [5,8,3,9]\n",
    "\n",
    "#tupples are immutable, it means they cannot be changed after creation, we define tupples in paranthesis(), eg:\n",
    "#tupple = (7,2,6,4)"
   ]
  },
  {
   "cell_type": "code",
   "execution_count": 4,
   "id": "8341d086-c1aa-46f1-83ec-dc037fe217d1",
   "metadata": {},
   "outputs": [],
   "source": [
    "#answer 2\n",
    "\n",
    "#input function is used to take input from the user\n",
    "#e.g = name =input('what is your name?') this will take input from what is your name\n",
    "\n",
    "#the default data type returned by input function is string \n",
    "\n",
    "#if the user wants to convert into interger then they need to typecast it."
   ]
  },
  {
   "cell_type": "code",
   "execution_count": 8,
   "id": "25a09619-8640-4c69-8d71-c04033fcec93",
   "metadata": {},
   "outputs": [],
   "source": [
    "#answer 3\n",
    "\n",
    "#python dictionaries : python dictionaries are the value pairs, where the keys cant be same(have to be unique) and values can be similar\n",
    "#we define dictionary in {}\n",
    "#dictionary is also called golden ratio\n",
    "\n",
    "#we can also have nested dictionaries means we can have dictionaries within  dictionaries\n",
    "\n",
    "#dict : {tejas,yash,dhruv}\n",
    "      #  {19,20,21}\n",
    "     #{delhi,delhi,haryana}"
   ]
  },
  {
   "cell_type": "code",
   "execution_count": 7,
   "id": "a0572de7-96d5-4244-8905-8ea8a02040c6",
   "metadata": {},
   "outputs": [
    {
     "name": "stdout",
     "output_type": "stream",
     "text": [
      "1\n",
      "2\n",
      "3\n",
      "4\n",
      "5\n"
     ]
    }
   ],
   "source": [
    "#answer 4\n",
    "\n",
    "#for in python is used to initialize a loop, it is used to perform a task repetitively\n",
    "\n",
    "\n",
    "for number in range(1, 6):     #take numbers from 1 to 5  \n",
    "    print(number)"
   ]
  },
  {
   "cell_type": "code",
   "execution_count": 9,
   "id": "dbfbb4a6-9a2b-499d-99b5-e07b00bf948a",
   "metadata": {},
   "outputs": [],
   "source": [
    "#answer 5\n",
    "\n",
    "#exception is an error which disrupts the normal flow of the program\n",
    "#exception handling : exception hanling is handling of exception which disrupts the normal flow of the program\n",
    "\n",
    "#try : try blocks helps to check whether there is any exception in the program or not \n",
    "#except: except is used to handle the exception in  the code]\n",
    "#finally : finally is used to execute the code even if there is any error in it"
   ]
  },
  {
   "cell_type": "code",
   "execution_count": 10,
   "id": "d68b47ed-1a92-4efa-aef0-e609617ad3ce",
   "metadata": {},
   "outputs": [],
   "source": [
    "#answer 6\n",
    "\n",
    "#python modules are files containing code which are saved in files using .py extension\n",
    "#python modules provide packages which contain code,variables etc.\n",
    "\n",
    "#import math imports the whole module where as from math import sqrt only imports sqrt function from the math module. \n"
   ]
  },
  {
   "cell_type": "code",
   "execution_count": 11,
   "id": "bce4eabc-0d92-41a2-8c06-5e17483a1e37",
   "metadata": {},
   "outputs": [],
   "source": [
    "#answer 7 \n",
    "\n",
    "#oops in python is used for classes which act as an blueprint for creating objects, which makes us easy to perform code\n",
    "#class is template and objects are used to run methods from the class\n",
    "#pillars of oops encapsulation,inheritance,polymorphism,abstraction.\n",
    "\n",
    "\n",
    "class goodmorning:\n",
    "    def say_goodmorning(self):\n",
    "        name = input('enter your name')\n",
    "        print(f'goodmorning (name)')"
   ]
  },
  {
   "cell_type": "code",
   "execution_count": 12,
   "id": "405b4b9f-b1c4-4991-8bc5-4db432ab9ba7",
   "metadata": {},
   "outputs": [],
   "source": [
    "hey = goodmorning()"
   ]
  },
  {
   "cell_type": "code",
   "execution_count": 13,
   "id": "0b296530-357d-4175-8c82-6cf6cbd30d21",
   "metadata": {},
   "outputs": [
    {
     "name": "stdin",
     "output_type": "stream",
     "text": [
      "enter your name tejas\n"
     ]
    },
    {
     "name": "stdout",
     "output_type": "stream",
     "text": [
      "goodmorning (name)\n"
     ]
    }
   ],
   "source": [
    "hey.say_goodmorning()"
   ]
  },
  {
   "cell_type": "code",
   "execution_count": 14,
   "id": "6b5ba870-14a2-45a5-805b-fe5dd0072840",
   "metadata": {},
   "outputs": [],
   "source": [
    "#answer 8\n",
    "\n",
    "#it is way used to create lists from  existing variables"
   ]
  },
  {
   "cell_type": "code",
   "execution_count": 15,
   "id": "608ca190-66bd-40c4-8b9d-34dc423eafc5",
   "metadata": {},
   "outputs": [],
   "source": [
    "#answer 9\n",
    "\n",
    "import math\n",
    "def calculate_area():\n",
    "    radius = float(input('enter the radius:'))\n",
    "    area = radius*3.14\n",
    "    print(area)"
   ]
  },
  {
   "cell_type": "code",
   "execution_count": 16,
   "id": "afa948dc-5111-47c2-a726-607c9d863a15",
   "metadata": {},
   "outputs": [
    {
     "name": "stdin",
     "output_type": "stream",
     "text": [
      "enter the radius: 15\n"
     ]
    },
    {
     "name": "stdout",
     "output_type": "stream",
     "text": [
      "47.1\n"
     ]
    }
   ],
   "source": [
    "a = calculate_area()"
   ]
  },
  {
   "cell_type": "code",
   "execution_count": 19,
   "id": "014bb0e8-f134-400c-beee-d4ac5fbb1e0d",
   "metadata": {},
   "outputs": [
    {
     "name": "stdin",
     "output_type": "stream",
     "text": [
      "enter your name tejas\n",
      "enter your age 19\n"
     ]
    },
    {
     "name": "stdout",
     "output_type": "stream",
     "text": [
      "hello tejas, you are 19 years old\n"
     ]
    }
   ],
   "source": [
    "#answer 10\n",
    "\n",
    "name = input('enter your name')\n",
    "age = int(input('enter your age'))\n",
    "print(f'hello {name}, you are {age} years old')"
   ]
  },
  {
   "cell_type": "code",
   "execution_count": 31,
   "id": "bc5ffcec-e9b0-4ae5-a15d-3ba6fcda104d",
   "metadata": {},
   "outputs": [
    {
     "ename": "SyntaxError",
     "evalue": "invalid syntax (2527339086.py, line 4)",
     "output_type": "error",
     "traceback": [
      "\u001b[1;36m  Cell \u001b[1;32mIn[31], line 4\u001b[1;36m\u001b[0m\n\u001b[1;33m    for i fruits in enumerate(fruits,1);\u001b[0m\n\u001b[1;37m          ^\u001b[0m\n\u001b[1;31mSyntaxError\u001b[0m\u001b[1;31m:\u001b[0m invalid syntax\n"
     ]
    }
   ],
   "source": [
    "#answer 11\n",
    "\n",
    "fruits = ['strawberry','mango','cherry','grapes','banana']\n",
    "for i fruits in enumerate(fruits,1):\n",
    "      print(i)"
   ]
  },
  {
   "cell_type": "code",
   "execution_count": 54,
   "id": "9d3c7caa-1252-4fc7-bdf7-687acd06c849",
   "metadata": {},
   "outputs": [
    {
     "ename": "IndentationError",
     "evalue": "unindent does not match any outer indentation level (<string>, line 8)",
     "output_type": "error",
     "traceback": [
      "\u001b[1;36m  File \u001b[1;32m<string>:8\u001b[1;36m\u001b[0m\n\u001b[1;33m    total_marks = 0\u001b[0m\n\u001b[1;37m                   ^\u001b[0m\n\u001b[1;31mIndentationError\u001b[0m\u001b[1;31m:\u001b[0m unindent does not match any outer indentation level\n"
     ]
    }
   ],
   "source": [
    "#answer 12:\n",
    "\n",
    "def grade_calculator():\n",
    "     sub_1:int(input('enter marks of your subject 1: '))\n",
    "     sub_2:int(input('enter marks of your subject 2: '))\n",
    "     sub_3:int(input('enter marks of your subject 3: '))\n",
    " \n",
    "  total_marks = 0\n",
    "    if marks >90:\n",
    "        print('A grade')\n",
    "    elif 89 <marks> 80:\n",
    "        print('B grade')\n",
    "    elif 79 <marks> 70:\n",
    "        print('C grade')\n",
    "    else:\n",
    "        print('fail')"
   ]
  },
  {
   "cell_type": "code",
   "execution_count": 56,
   "id": "fcd6b666-cbdb-477c-a799-3c60f903e004",
   "metadata": {},
   "outputs": [
    {
     "ename": "NameError",
     "evalue": "name 'absent' is not defined",
     "output_type": "error",
     "traceback": [
      "\u001b[1;31m---------------------------------------------------------------------------\u001b[0m",
      "\u001b[1;31mNameError\u001b[0m                                 Traceback (most recent call last)",
      "Cell \u001b[1;32mIn[56], line 2\u001b[0m\n\u001b[0;32m      1\u001b[0m \u001b[38;5;66;03m#answer 13 \u001b[39;00m\n\u001b[1;32m----> 2\u001b[0m absent\n",
      "\u001b[1;31mNameError\u001b[0m: name 'absent' is not defined"
     ]
    }
   ],
   "source": [
    "#answer 13 \n",
    "#absent "
   ]
  },
  {
   "cell_type": "code",
   "execution_count": 57,
   "id": "360710ed-85df-49a0-83b1-1442c7ca6fc0",
   "metadata": {},
   "outputs": [],
   "source": [
    "#answer 14\n",
    "#absent"
   ]
  },
  {
   "cell_type": "code",
   "execution_count": 55,
   "id": "d34da01e-9754-425e-b2ba-a410715dde96",
   "metadata": {},
   "outputs": [
    {
     "name": "stdout",
     "output_type": "stream",
     "text": [
      "Prime numbers between 1 and 50 are:\n",
      "\n",
      "2  3  5  7  11\n",
      "13  17  19  23  29\n",
      "31  37  41  43  47\n"
     ]
    }
   ],
   "source": [
    "#answer 15\n",
    "\n",
    "def is_prime(num):\n",
    "    if num < 2:\n",
    "        return False\n",
    "    for i in range(2, int(num**0.5)+1):\n",
    "        if num % i == 0:\n",
    "            return False\n",
    "    return True\n",
    "\n",
    "print(\"Prime numbers between 1 and 50 are:\\n\")\n",
    "\n",
    "prime_numbers = []\n",
    "for number in range(1, 51):\n",
    "    if is_prime(number):\n",
    "        prime_numbers.append(number)\n",
    "\n",
    "# Nicely formatted output (e.g., 5 numbers per line)\n",
    "for i in range(0, len(prime_numbers), 5):\n",
    "    print('  '.join(str(p) for p in prime_numbers[i:i+5]))"
   ]
  }
 ],
 "metadata": {
  "kernelspec": {
   "display_name": "Python 3 (ipykernel)",
   "language": "python",
   "name": "python3"
  },
  "language_info": {
   "codemirror_mode": {
    "name": "ipython",
    "version": 3
   },
   "file_extension": ".py",
   "mimetype": "text/x-python",
   "name": "python",
   "nbconvert_exporter": "python",
   "pygments_lexer": "ipython3",
   "version": "3.13.5"
  }
 },
 "nbformat": 4,
 "nbformat_minor": 5
}
